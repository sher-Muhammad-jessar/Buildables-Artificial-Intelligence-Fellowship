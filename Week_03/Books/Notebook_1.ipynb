{
 "cells": [
  {
   "cell_type": "markdown",
   "id": "4377c342-96a3-45a9-b334-a5fe3fdd8b19",
   "metadata": {},
   "source": [
    "# Book1: Start Writing Prompts Like a Pro "
   ]
  },
  {
   "cell_type": "markdown",
   "id": "35c79424-42fd-446b-8e07-39a63db55199",
   "metadata": {},
   "source": [
    "\n",
    "####  Question 1: What is prompting?\n",
    "  **Answer:**\n",
    "* Prompting is the process of giving instructions or inputs to a generative AI system so it produces the desired output. It involves framing queries clearly to guide the AI’s response effectively.\n",
    "\n",
    "\n",
    "\n",
    "#### Question 2: In the following prompt, which part describes the primary task?\n",
    "Prompt: “Explain how car batteries work using non-technical language that someone without any mechanical knowledge could understand and interpret.”\n",
    "**Answer:**\n",
    "* The primary task is **“Explain how car batteries work”**. The rest of the prompt specifies how the explanation should be delivered (non-technical and easy to understand).\n",
    "\n",
    "\n",
    "\n",
    "#### Question 3: When you are using a gen AI tool to create a healthy three-course menu that requires a certain number of calories, which prompting element will ensure the menu is more practical?\n",
    "**Answer:**\n",
    "* Including **constraints or requirements** like calorie count ensures the menu is practical. Constraints help the AI generate output that is realistic and aligned with the user’s needs.\n",
    "\n",
    "\n",
    "\n",
    "#### Question 4: Prompting with audio to receive a visual representation is called what?\n",
    "**Answer:**\n",
    "* This is called **multimodal prompting**. It uses one mode of input (audio) to generate another form of output (visual representation).\n",
    "\n",
    "\n",
    "\n",
    "#### Question 5: What does a human-in-the-loop approach to prompting emphasize?\n",
    "**Answer:**\n",
    "* A human-in-the-loop approach emphasizes **continuous human oversight and feedback** to refine AI responses. It ensures accuracy, safety, and alignment with user goals.\n",
    "\n",
    "\n",
    "\n",
    "#### Question 6: When the initial prompt \"Create a dataset\" is too broad, what should you do to refine it?\n",
    "**Answer:**\n",
    "* You should **add details and context** such as the type of dataset, format, size, and purpose. Refining prompts with specifics makes the AI’s output more useful and targeted.\n",
    "\n",
    "\n"
   ]
  }
 ],
 "metadata": {
  "kernelspec": {
   "display_name": "Python 3 (ipykernel)",
   "language": "python",
   "name": "python3"
  },
  "language_info": {
   "codemirror_mode": {
    "name": "ipython",
    "version": 3
   },
   "file_extension": ".py",
   "mimetype": "text/x-python",
   "name": "python",
   "nbconvert_exporter": "python",
   "pygments_lexer": "ipython3",
   "version": "3.13.7"
  }
 },
 "nbformat": 4,
 "nbformat_minor": 5
}
