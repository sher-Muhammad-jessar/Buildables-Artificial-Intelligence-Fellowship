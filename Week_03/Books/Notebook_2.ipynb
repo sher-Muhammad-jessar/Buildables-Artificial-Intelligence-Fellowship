{
 "cells": [
  {
   "cell_type": "markdown",
   "id": "1364a824-427a-419c-b15b-171f50960323",
   "metadata": {},
   "source": [
    "# Book 2: Design prompts for everyday work tasks"
   ]
  },
  {
   "cell_type": "markdown",
   "id": "30a3c274-7398-4d9a-87e1-6b5e2703c1d6",
   "metadata": {},
   "source": [
    "### Exercise: Try It Yourself ❗ **TO-DO List**\n",
    "**ANSWER**\n",
    "* To-do list (sample for the week):\n",
    "\n",
    "* Read & summarize 2 research papers.\n",
    "\n",
    "* Prepare slides for Monday lecture.\n",
    "\n",
    "* Draft follow-up email reminding team about weekly meeting. ← (AI-helpful task)\n",
    "\n",
    "* Update project tracker and assign tasks.\n",
    "\n",
    "* Client call to confirm feature specs.\n",
    "\n",
    "* Draft LinkedIn post about project milestone.\n",
    "\n",
    "* Run weekly backup and check data pipeline.\n",
    "\n",
    "* Plan study schedule for next week.\n"
   ]
  },
  {
   "cell_type": "markdown",
   "id": "004d6bd9-54ee-4879-a55f-9e34c01271d6",
   "metadata": {},
   "source": [
    "### PROMPT:\n",
    "* Draft a professional, friendly email reminding my team about our weekly meeting. Include subject line, meeting time (Thursday 10:00 AM PKT), short agenda (status updates, blockers, action items), ask for 2-minute updates from each person, and request people add topics to the doc by Wednesday noon. Keep it concise and positive."
   ]
  },
  {
   "cell_type": "markdown",
   "id": "15a11f81-b165-425e-927a-96ecf38d56ce",
   "metadata": {},
   "source": [
    "## OUTPUT:\n",
    "### Subject: Friendly Reminder — Weekly Team Meeting, Thu 10:00 AM PKT\n",
    "\n",
    "Hi team,  \n",
    "\n",
    "Quick reminder that our weekly meeting is this **Thursday at 10:00 AM PKT**.  \n",
    "\n",
    "**Agenda:**  \n",
    "- Quick status updates  \n",
    "- Blockers  \n",
    "- Action items  \n",
    "\n",
    "Please prepare a **2-minute update** on your top progress and any blockers.  \n",
    "If you’d like to add an item, add it to the **shared meeting doc by Wednesday noon**.  \n",
    "\n",
    "If you can’t attend, please post a short update in the **#project channel** or let me know.  \n",
    "\n",
    "**Meeting link & doc:** [Insert link]  \n",
    "\n",
    "Thanks — looking forward to catching up!  \n",
    "\n",
    "Best,  \n",
    "[Your Name]  \n"
   ]
  },
  {
   "cell_type": "markdown",
   "id": "f87357d0-cd76-467b-b69f-d5315761a941",
   "metadata": {},
   "source": [
    "## Prompt updated for better response:\n",
    "\n",
    "**Persona:** I’m a Project Manager at Nimbus Labs.\n",
    "\n",
    "**Context:** Final QA found an issue that would affect user experience; we need one extra week.\n",
    "\n",
    "**Task:** Write an apologetic, reassuring email to the client explaining the delay, giving a new ETA (one week later), listing mitigations, and offering a goodwill gesture (one month free support).\n",
    "\n",
    "**Specificity:** Tone professional and reassuring, ~160–220 words, include next steps and offer a short cal\n",
    "\n",
    "\n",
    "### new Prompt: \n",
    " * I am a Project Manager at Nimbus Labs. During final QA we discovered an issue affecting the new module’s reliability, so we need an extra week to fix and re-test. Draft a professional, reassuring email to the client explaining the reason, stating the new ETA (one week from today), listing mitigations we’ll take (prioritize fix, extra QA cycle, daily status updates), offer one month of free priority support as goodwill, and invite them to a quick call. Keep it ~180 words."
   ]
  },
  {
   "cell_type": "markdown",
   "id": "094fa3a4-e50d-4c0f-9f19-3b1ff8c15a35",
   "metadata": {},
   "source": [
    "## EXERCISE 3: Practice Tone & Style Prompting\n",
    "**Original short text (your starting text):**\n",
    "\n",
    "* We're launching a new analytics dashboard next week. It has improved charts, faster load times, and team collaboration features. Stay tuned!\n",
    "\n",
    "**Prompt to make it sound inspirational (TED-like):**\n",
    "\n",
    "* Rewrite this LinkedIn post to sound inspirational, like a TED speaker motivating professionals: \"We're launching...\" Keep it short (1–2 paragraphs), vivid, uplifting, and end with a call to action.\n",
    "\n",
    "#### Outputs (examples):\n",
    "\n",
    "**Inspirational / TED-style**\n",
    "* Next week we’ll unveil an analytics dashboard designed to turn data into decisions — clearer charts that reveal insight, speed that keeps up with your curiosity, and collaboration features that make teamwork effortless. This isn’t just a product update; it’s a tool to help teams move from information to impact. Join us next week and see what your data can really do.\n",
    "\n",
    "**Funny**\n",
    "* Launching next week: a dashboard so slick the charts will practically do the storytelling for you. Faster than your coffee break, easier than arguing over spreadsheets, and built for teams who’d rather collaborate than chase changes. Stay tuned—data has never been this fun.\n",
    "\n",
    "**Formal**\n",
    "*  We will launch an enhanced analytics dashboard next week, featuring improved visualizations, reduced latency, and integrated collaboration capabilities. Further details and rollout instructions will follow shortly.\n",
    "\n",
    "**Academic / Technical**\n",
    "* A new analytics dashboard will be deployed next week, incorporating optimized charting libraries, reduced rendering latency, and collaborative annotation features to facilitate collective data analysis and decision-making.\n",
    "\n",
    "**Casual**\n",
    "* Excited to share: our new analytics dashboard drops next week. Expect better charts, faster load times, and simple team-collab tools. Can’t wait for you to try it — stay tuned!\n",
    "\n",
    "**Which tone works best?**\n",
    "* If your audience is LinkedIn professionals and you want engagement and shares, the Inspirational/TED-style and Casual versions usually perform best — they feel human, motivating, and short enough to read. Use Formal for executives or release notes; Academic for technical papers; Funny if your brand voice is playful."
   ]
  },
  {
   "cell_type": "markdown",
   "id": "5ab3a151-7caf-40b2-816a-705875ad8cc1",
   "metadata": {},
   "source": [
    "## Brainstorming Ideas with Generative AI\n",
    "### Exercise 1: Icebreakers: \n",
    "\n",
    "**Prompt:**\n",
    "* “Generate 3 fun icebreakers for a new teammate who loves basketball and photography. Make them light, friendly, and suitable for a team meeting.”\n",
    "\n",
    "**Possible AI Output:**\n",
    "\n",
    "* “If you could photograph any NBA game courtside, which team would you choose?”\n",
    "\n",
    "* “Would you rather play a basketball match with your favorite athlete or do a photoshoot of them?”\n",
    "\n",
    "* “If you could turn one team meeting into a sports photo shoot, what would the theme be?”"
   ]
  },
  {
   "cell_type": "markdown",
   "id": "bd3afb84-3948-4e14-be40-234bbb5626c2",
   "metadata": {},
   "source": [
    "### Exercise 2: Product Launch (Mobile Fitness App)\n",
    "\n",
    "**Prompt:**\n",
    "* “I’m launching a new mobile fitness app. Create a 6-month launch timeline and suggest 3 pre-launch buzz ideas. Format as bullets.”\n",
    "\n",
    "**Possible AI Output:**\n",
    "\n",
    "* 6-Month Timeline:\n",
    "\n",
    "* Month 1–2: Beta testing & early user feedback.\n",
    "\n",
    "* Month 3: Teaser campaigns on social media.\n",
    "\n",
    "* Month 4: Influencer collaborations & fitness challenges.\n",
    "\n",
    "* Month 5: Pre-orders & early sign-ups.\n",
    "\n",
    "* Month 6: Global launch event.\n",
    "\n",
    "**Pre-launch Buzz Ideas:**\n",
    "\n",
    "* Host a 30-day fitness challenge with rewards.\n",
    "\n",
    "* Offer exclusive early access to 500 beta users.\n",
    "\n",
    "* Create viral short videos with workout tips inside the app."
   ]
  },
  {
   "cell_type": "markdown",
   "id": "ccc6aa5f-45cb-4dfc-9f0e-b7b774596b9e",
   "metadata": {},
   "source": [
    "### Exercise 3: Global Audience Twist\n",
    "\n",
    "**Prompt:**\n",
    "* “Now adjust the fitness app launch plan for a global audience.”\n",
    "\n",
    "**Possible AI Output:**\n",
    "\n",
    "* Translate marketing content into multiple languages.\n",
    "\n",
    "* Partner with local fitness influencers across regions.\n",
    "\n",
    "* Adapt challenges to cultural norms (e.g., yoga in India, cycling in Europe)."
   ]
  },
  {
   "cell_type": "markdown",
   "id": "eeeed29a-f506-4039-81b1-8a0e7dd9c8cc",
   "metadata": {},
   "source": [
    "## Build Tables & Trackers Effortlessly with AI"
   ]
  },
  {
   "cell_type": "markdown",
   "id": "6c8e4ab1-52cf-4eda-bd1e-68c4223061b9",
   "metadata": {},
   "source": [
    "### Exercise 1: Project Tracker:\n",
    "**Answer:**\n",
    "| Task                | Owner | Deadline | Status  |\n",
    "| ------------------- | ----- | -------- | ------- |\n",
    "| Design App UI       | Emp 1 | Sept 20  | Active  |\n",
    "| Write Fitness Blog  | Emp 2 | Sept 22  | Active  |\n",
    "| Beta Testing Setup  | Emp 3 | Sept 25  | Active  |\n",
    "| Create Social Posts | Emp 1 | Sept 28  | Pending |\n"
   ]
  },
  {
   "cell_type": "markdown",
   "id": "5fb64cb8-993b-45d1-a5a1-3ffe7a4747a0",
   "metadata": {},
   "source": [
    "### Exercise 2: Create a project tracker in a table format with the following columns: Task, Owner, Deadline, and Status. Ensure that each owner has no more than 2 active tasks at a time.”\n",
    "\n",
    "| Task                | Owner  | Deadline | Status  |\n",
    "| ------------------- | ------ | -------- | ------- |\n",
    "| Design homepage     | Ayesha | Sept 20  | Active  |\n",
    "| Write blog draft    | Ayesha | Sept 25  | Active  |\n",
    "| Backend API setup   | Bilal  | Sept 22  | Active  |\n",
    "| Database migration  | Bilal  | Sept 28  | Planned |\n",
    "| Client presentation | Hina   | Sept 24  | Active  |\n",
    "| QA testing          | Hina   | Sept 27  | Planned |\n",
    "\n",
    "\n"
   ]
  },
  {
   "cell_type": "markdown",
   "id": "e390abc5-5ef5-4c80-b2e9-028315a9eef6",
   "metadata": {},
   "source": [
    "### Exercise 2: \n",
    "####  Generate a 3-day conference schedule in table format with columns: Day, Session Title, Speaker, and Time. Constraint: No speaker should have more than 1 session per day. \n",
    "\n",
    "\n",
    " | Day   | Session Title         | Speaker    | Time        |\n",
    "| ----- | --------------------- | ---------- | ----------- |\n",
    "| Day 1 | Opening Keynote       | Dr. Khan   | 9:00–10:00  |\n",
    "| Day 1 | Future of AI          | Ms. Fatima | 11:00–12:00 |\n",
    "| Day 1 | Networking Lunch      | —          | 1:00–2:00   |\n",
    "| Day 2 | Cybersecurity Trends  | Mr. Ali    | 10:00–11:00 |\n",
    "| Day 2 | Cloud Infrastructure  | Ms. Fatima | 12:00–1:00  |\n",
    "| Day 2 | Panel Discussion      | Dr. Khan   | 3:00–4:00   |\n",
    "| Day 3 | Data Science Workshop | Hina Shah  | 9:00–10:30  |\n",
    "| Day 3 | Closing Remarks       | Mr. Ali    | 2:00–3:00   |\n"
   ]
  },
  {
   "cell_type": "markdown",
   "id": "d845234b-800c-44de-8f24-49d36208fd93",
   "metadata": {},
   "source": [
    "### Exercise 3: Team Availability\n",
    "\n",
    "**Prompt:**\n",
    "* “Create a vacation tracker in table format for 8 employees with columns: Employee, Vacation Start, and Vacation End. Constraint: At least 5 employees must be available at all times.”\n",
    " | Employee | Vacation Start | Vacation End |\n",
    "| -------- | -------------- | ------------ |\n",
    "| Ayesha   | Sept 15        | Sept 18      |\n",
    "| Bilal    | Sept 19        | Sept 22      |\n",
    "| Hina     | Sept 23        | Sept 26      |\n",
    "| Ali      | Sept 27        | Sept 29      |\n",
    "| Sara     | Sept 20        | Sept 21      |\n",
    "| Usman    | Sept 25        | Sept 28      |\n",
    "| Maria    | Sept 29        | Oct 2        |\n",
    "| Omar     | Oct 1          | Oct 3        |\n",
    "\n"
   ]
  },
  {
   "cell_type": "markdown",
   "id": "77919cdd-31d0-48ca-92b9-4240cf94b2ce",
   "metadata": {},
   "source": [
    "### ✅ Reflection Question\n",
    "\n",
    "* How could you use AI to organize recurring tasks (like meetings, deadlines, or resources) at your workplace?\n",
    "AI can automate recurring tasks by creating smart calendars, trackers, and reminders. For example, it can generate a weekly meeting schedule, auto-assign tasks before deadlines, and update resource availability. It can also spot conflicts and optimize schedules so teams spend less time planning and more time executing."
   ]
  },
  {
   "cell_type": "markdown",
   "id": "4d4c3d22-ee1b-4b62-b14d-eca7f88f8dd9",
   "metadata": {},
   "source": [
    "## Capture Meeting Notes Instantly with AI"
   ]
  },
  {
   "cell_type": "markdown",
   "id": "f8920225-68d5-454b-8b5a-b21919088bdb",
   "metadata": {},
   "source": [
    "### Exercise 1: Speaker-based Minutes\n",
    "\n",
    "**Prompt:**\n",
    "* “Summarize the following meeting transcript into minutes by speaker. Add 2–3 bullet points per speaker, and clearly mark action items.”\n",
    "\n",
    "**Sample Transcript (short):**\n",
    "\n",
    "**Ali:** The client requested a revised design by Friday. We also need to finalize the logo.\n",
    "\n",
    "**Sara:** I can take charge of the logo update. Also, I’ll send the client a mockup.\n",
    "\n",
    "**Usman:** I’ll handle the revised design draft. Need feedback by Thursday.\n",
    "\n",
    "**AI Output (Speaker-based Minutes):**\n",
    "\n",
    "**Ali:**\n",
    "\n",
    "* Shared client’s request for revised design (due Friday).\n",
    "\n",
    "* Highlighted need to finalize the logo.\n",
    "\n",
    "**Action Item:** Ensure revised design is delivered by Friday.\n",
    "\n",
    "**Sara:**\n",
    "\n",
    "* Volunteered to update the logo.\n",
    "\n",
    "*  Will send a mockup to the client.\n",
    "\n",
    "**Action Item:** Deliver logo update + mockup by Thursday.\n",
    "\n",
    "**Usman:**\n",
    "\n",
    "* Took responsibility for revised design draft.\n",
    "\n",
    "* Requested feedback before Friday deadline.\n",
    "\n",
    "**Action Item:** Share design draft by Thursday for review."
   ]
  },
  {
   "cell_type": "markdown",
   "id": "c6994ad7-1444-47f9-b540-d5d47d1ce010",
   "metadata": {},
   "source": [
    "### Exercise 2: Action-Focused Notes\n",
    "\n",
    "**Prompt:**\n",
    "* “Create meeting minutes that focus only on action items. Format each entry as: Action Item, Responsible Person, Deadline.”\n",
    "\n",
    "**AI Output:**\n",
    "\n",
    "**Action Item:** Deliver revised design draft → Responsible: Usman → Deadline: Thursday\n",
    "\n",
    "**Action Item:** Finalize logo update & send mockup to client → Responsible: Sara → Deadline: Thursday\n",
    "\n",
    "**Action Item:** Review and submit final design to client → Responsible: Ali → Deadline: Friday"
   ]
  },
  {
   "cell_type": "markdown",
   "id": "1848366e-b287-4a01-942a-5dc2dd1bd209",
   "metadata": {},
   "source": [
    "### Exercise 3: Thematic Notes\n",
    "\n",
    "**Prompt:**\n",
    "* “Group meeting minutes into sections based on topics discussed. For each section, summarize key decisions, and list assigned action items.”\n",
    "\n",
    "**AI Output:**\n",
    "\n",
    "**Theme 1:** Design Updates\n",
    "\n",
    "**Decision: Revise design per client request.**\n",
    "\n",
    "**Action Item:** Usman to draft design by Thursday.\n",
    "\n",
    "**Action Item:** Ali to review and ensure submission by Friday.\n",
    "\n",
    "**Theme 2:** Branding/Logo\n",
    "\n",
    "**Decision:** Update and finalize logo before delivery.\n",
    "\n",
    "**Action Item:** Sara to update logo and send mockup to client by Thursday"
   ]
  },
  {
   "cell_type": "markdown",
   "id": "1fd49a98-a85b-413c-a799-7ca21b201864",
   "metadata": {},
   "source": [
    "### ✅ Reflection Question\n",
    "\n",
    "**How could AI-generated meeting notes help you improve follow-up and accountability in your workplace?**\n",
    "* AI-generated meeting notes ensure that key points, responsibilities, and deadlines are captured without bias or omission. This makes follow-up easier because tasks are documented clearly, and accountability improves since each person’s commitments are visible. It reduces misunderstandings, saves time on manual note-taking, and creates a reliable record to track progress."
   ]
  },
  {
   "cell_type": "markdown",
   "id": "7e514ac0-2e02-4122-b5df-728d2623d212",
   "metadata": {},
   "source": [
    "## Summarize Lengthy Documents with AI"
   ]
  },
  {
   "cell_type": "markdown",
   "id": "07a511d9-ccc5-4ebe-ae63-2453981f4ec7",
   "metadata": {},
   "source": [
    "\n",
    "## **Exercise 1: Outline Summary**  \n",
    "**Prompt:**  \n",
    "“Summarize this document into a bulleted outline of no more than 10 points.”  \n",
    "\n",
    "**Sample Output (based on a report about renewable energy adoption):**  \n",
    "- Growth of renewable energy in the last decade.  \n",
    "- Decline in fossil fuel dependency worldwide.  \n",
    "- Government incentives driving solar and wind adoption.  \n",
    "- Advances in battery and storage technology.  \n",
    "- Challenges: infrastructure costs and policy gaps.  \n",
    "- Regional leaders: Europe, China, and the U.S.  \n",
    "- Role of private companies and investments.  \n",
    "- Environmental benefits: reduced emissions.  \n",
    "- Public perception and demand trends.  \n",
    "- Future outlook: transition by 2050.  \n",
    "\n",
    "\n"
   ]
  },
  {
   "cell_type": "markdown",
   "id": "559c4d71-abba-49de-b0d2-9aeb7cf389cd",
   "metadata": {},
   "source": [
    "\n",
    "\n",
    "## **Exercise 2: Audience Summary**  \n",
    "**Prompt:**  \n",
    "“Summarize this document as if explaining it to a high school student.”  \n",
    "\n",
    "**Sample Output:**  \n",
    "Renewable energy is energy that comes from natural things like the sun and wind. It’s becoming popular because it doesn’t pollute the air like coal and gas. Countries are using more solar panels and wind turbines to make clean electricity. The challenge is that it’s expensive to set up, but in the long run it helps the planet and saves money. By the year 2050, many countries hope to use mostly clean energy instead of harmful fuels.  \n",
    "\n"
   ]
  },
  {
   "cell_type": "markdown",
   "id": "f24866fd-3140-4e1c-85b6-6c25d31b9970",
   "metadata": {},
   "source": [
    "\n",
    "\n",
    "## **Exercise 3: Comparative Summary**  \n",
    "**Prompt:**  \n",
    "“Summarize this report in two versions:  \n",
    "1. Executive summary for leadership.  \n",
    "2. Simplified version for frontline employees.”  \n",
    "\n",
    "**Sample Output:**  \n",
    "\n",
    "**1. Executive Summary (for leadership):**  \n",
    "The global renewable energy sector is expanding rapidly due to government incentives, private investment, and declining technology costs. Key opportunities exist in solar, wind, and storage solutions, with Europe, China, and the U.S. leading adoption. Strategic action is required to address infrastructure challenges and ensure competitiveness in the transition toward a low-carbon economy by 2050.  \n",
    "\n",
    "**2. Simplified Version (for frontline employees):**  \n",
    "Renewable energy like solar and wind is growing fast around the world. Countries and companies are investing more in clean energy because it’s cheaper over time and better for the environment. Our role is to keep improving how we use and maintain these systems so we can move away from polluting fuels.  \n",
    "\n"
   ]
  },
  {
   "cell_type": "markdown",
   "id": "7645e9bf-3847-457b-8b9d-e8840d8e72d2",
   "metadata": {},
   "source": [
    "\n",
    "## ✅ Reflection Question \n",
    "**How could tailoring summaries to different audiences (executives, clients, students) improve understanding and decision-making in your work?**  \n",
    "\n",
    "Tailoring summaries ensures that **each audience gets the information in the format and detail they need**. Executives benefit from high-level insights to make strategic decisions, frontline employees need clear and simple instructions for action, and students or clients need explanations in accessible language to build understanding. This approach avoids confusion, speeds up decision-making, and makes communication more effective across all levels.  \n"
   ]
  },
  {
   "cell_type": "markdown",
   "id": "852fa6c3-206f-4d58-96b6-2feacbe8d06e",
   "metadata": {},
   "source": [
    "# 📝 Advanced Summarization Exercise  \n",
    "\n",
    "## Article Topic: *The Impact of Artificial Intelligence on Healthcare*  \n",
    "\n",
    "\n",
    "###  Broad Overview (1 paragraph)  \n",
    "The article discusses how artificial intelligence (AI) is revolutionizing the healthcare industry by improving diagnostics, personalizing treatments, and streamlining administrative tasks. It highlights examples such as AI-powered imaging tools for early cancer detection, predictive analytics for disease prevention, and chatbots for patient support. However, it also addresses challenges like data privacy, algorithmic bias, and the need for proper regulations. Overall, the report emphasizes that while AI has immense potential to transform healthcare, its integration must be done responsibly to ensure safety, trust, and equity.  \n",
    "\n",
    "\n",
    "###  Shorter Summary (3 bullet points)  \n",
    "- AI is enhancing **diagnostics, treatment personalization, and administrative efficiency** in healthcare.  \n",
    "- Key challenges include **data privacy, bias, and regulatory requirements**.  \n",
    "- Responsible adoption is essential to balance **innovation with trust and equity**.  \n",
    "\n",
    "###  Single Sentence (main trend/insight)  \n",
    "AI is transforming healthcare by improving outcomes and efficiency, but ethical and regulatory safeguards are crucial for its success.  \n",
    "\n",
    "\n"
   ]
  },
  {
   "cell_type": "markdown",
   "id": "7b24dfd8-32c6-437d-9d5e-4722092081e0",
   "metadata": {},
   "source": []
  },
  {
   "cell_type": "markdown",
   "id": "abf1d1f3-b3de-4bca-a34a-87c20c717d72",
   "metadata": {},
   "source": []
  },
  {
   "cell_type": "markdown",
   "id": "635accbb-6b2e-421b-8664-684259b328ee",
   "metadata": {},
   "source": []
  }
 ],
 "metadata": {
  "kernelspec": {
   "display_name": "Python 3 (ipykernel)",
   "language": "python",
   "name": "python3"
  },
  "language_info": {
   "codemirror_mode": {
    "name": "ipython",
    "version": 3
   },
   "file_extension": ".py",
   "mimetype": "text/x-python",
   "name": "python",
   "nbconvert_exporter": "python",
   "pygments_lexer": "ipython3",
   "version": "3.13.7"
  }
 },
 "nbformat": 4,
 "nbformat_minor": 5
}
